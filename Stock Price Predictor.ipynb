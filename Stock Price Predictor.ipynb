{
 "cells": [
  {
   "cell_type": "code",
   "execution_count": 1,
   "id": "02c44ead",
   "metadata": {},
   "outputs": [
    {
     "name": "stdout",
     "output_type": "stream",
     "text": [
      "Collecting yfinance\n",
      "  Downloading yfinance-0.1.63.tar.gz (26 kB)\n",
      "Requirement already satisfied: pandas>=0.24 in c:\\users\\naman\\appdata\\local\\programs\\python\\python39\\lib\\site-packages (from yfinance) (1.3.0)\n",
      "Requirement already satisfied: numpy>=1.15 in c:\\users\\naman\\appdata\\local\\programs\\python\\python39\\lib\\site-packages (from yfinance) (1.21.0)\n",
      "Collecting requests>=2.20\n",
      "  Downloading requests-2.26.0-py2.py3-none-any.whl (62 kB)\n",
      "Collecting multitasking>=0.0.7\n",
      "  Downloading multitasking-0.0.9.tar.gz (8.1 kB)\n",
      "Collecting lxml>=4.5.1\n",
      "  Downloading lxml-4.6.3-cp39-cp39-win_amd64.whl (3.5 MB)\n",
      "Requirement already satisfied: pytz>=2017.3 in c:\\users\\naman\\appdata\\local\\programs\\python\\python39\\lib\\site-packages (from pandas>=0.24->yfinance) (2021.1)\n",
      "Requirement already satisfied: python-dateutil>=2.7.3 in c:\\users\\naman\\appdata\\local\\programs\\python\\python39\\lib\\site-packages (from pandas>=0.24->yfinance) (2.8.1)\n",
      "Requirement already satisfied: six>=1.5 in c:\\users\\naman\\appdata\\local\\programs\\python\\python39\\lib\\site-packages (from python-dateutil>=2.7.3->pandas>=0.24->yfinance) (1.16.0)\n",
      "Collecting urllib3<1.27,>=1.21.1\n",
      "  Downloading urllib3-1.26.7-py2.py3-none-any.whl (138 kB)\n",
      "Collecting charset-normalizer~=2.0.0\n",
      "  Downloading charset_normalizer-2.0.7-py3-none-any.whl (38 kB)\n",
      "Collecting certifi>=2017.4.17\n",
      "  Downloading certifi-2021.10.8-py2.py3-none-any.whl (149 kB)\n",
      "Collecting idna<4,>=2.5\n",
      "  Downloading idna-3.3-py3-none-any.whl (61 kB)\n",
      "Using legacy 'setup.py install' for yfinance, since package 'wheel' is not installed.\n",
      "Using legacy 'setup.py install' for multitasking, since package 'wheel' is not installed.\n",
      "Installing collected packages: urllib3, idna, charset-normalizer, certifi, requests, multitasking, lxml, yfinance\n",
      "    Running setup.py install for multitasking: started\n",
      "    Running setup.py install for multitasking: finished with status 'done'\n",
      "    Running setup.py install for yfinance: started\n",
      "    Running setup.py install for yfinance: finished with status 'done'\n",
      "Successfully installed certifi-2021.10.8 charset-normalizer-2.0.7 idna-3.3 lxml-4.6.3 multitasking-0.0.9 requests-2.26.0 urllib3-1.26.7 yfinance-0.1.63\n",
      "Note: you may need to restart the kernel to use updated packages.\n"
     ]
    },
    {
     "name": "stderr",
     "output_type": "stream",
     "text": [
      "WARNING: You are using pip version 21.2.3; however, version 21.3 is available.\n",
      "You should consider upgrading via the 'c:\\users\\naman\\appdata\\local\\programs\\python\\python39\\python.exe -m pip install --upgrade pip' command.\n"
     ]
    }
   ],
   "source": [
    "pip install yfinance"
   ]
  },
  {
   "cell_type": "code",
   "execution_count": 2,
   "id": "ad02ad3f",
   "metadata": {},
   "outputs": [],
   "source": [
    "import numpy as np \n",
    "import pandas as pd   \n",
    "\n",
    "import yfinance as yf \n",
    "\n",
    "import seaborn as sns \n",
    "import matplotlib.pyplot as plt   \n",
    "%matplotlib inline"
   ]
  },
  {
   "cell_type": "code",
   "execution_count": 4,
   "id": "d2cd18aa",
   "metadata": {},
   "outputs": [
    {
     "name": "stdout",
     "output_type": "stream",
     "text": [
      "Enter the code of the stock:- NG=F\n",
      "[*********************100%***********************]  1 of 1 completed\n"
     ]
    },
    {
     "data": {
      "text/html": [
       "<div>\n",
       "<style scoped>\n",
       "    .dataframe tbody tr th:only-of-type {\n",
       "        vertical-align: middle;\n",
       "    }\n",
       "\n",
       "    .dataframe tbody tr th {\n",
       "        vertical-align: top;\n",
       "    }\n",
       "\n",
       "    .dataframe thead th {\n",
       "        text-align: right;\n",
       "    }\n",
       "</style>\n",
       "<table border=\"1\" class=\"dataframe\">\n",
       "  <thead>\n",
       "    <tr style=\"text-align: right;\">\n",
       "      <th></th>\n",
       "      <th>Open</th>\n",
       "      <th>High</th>\n",
       "      <th>Low</th>\n",
       "      <th>Close</th>\n",
       "      <th>Volume</th>\n",
       "    </tr>\n",
       "    <tr>\n",
       "      <th>Date</th>\n",
       "      <th></th>\n",
       "      <th></th>\n",
       "      <th></th>\n",
       "      <th></th>\n",
       "      <th></th>\n",
       "    </tr>\n",
       "  </thead>\n",
       "  <tbody>\n",
       "    <tr>\n",
       "      <th>2007-12-31</th>\n",
       "      <td>7.349</td>\n",
       "      <td>7.540</td>\n",
       "      <td>7.283</td>\n",
       "      <td>7.483</td>\n",
       "      <td>27299</td>\n",
       "    </tr>\n",
       "    <tr>\n",
       "      <th>2008-01-02</th>\n",
       "      <td>7.572</td>\n",
       "      <td>7.876</td>\n",
       "      <td>7.564</td>\n",
       "      <td>7.850</td>\n",
       "      <td>68553</td>\n",
       "    </tr>\n",
       "    <tr>\n",
       "      <th>2008-01-03</th>\n",
       "      <td>7.873</td>\n",
       "      <td>7.980</td>\n",
       "      <td>7.610</td>\n",
       "      <td>7.674</td>\n",
       "      <td>72742</td>\n",
       "    </tr>\n",
       "    <tr>\n",
       "      <th>2008-01-04</th>\n",
       "      <td>7.652</td>\n",
       "      <td>7.859</td>\n",
       "      <td>7.500</td>\n",
       "      <td>7.841</td>\n",
       "      <td>61496</td>\n",
       "    </tr>\n",
       "    <tr>\n",
       "      <th>2008-01-07</th>\n",
       "      <td>7.803</td>\n",
       "      <td>7.940</td>\n",
       "      <td>7.701</td>\n",
       "      <td>7.879</td>\n",
       "      <td>56675</td>\n",
       "    </tr>\n",
       "  </tbody>\n",
       "</table>\n",
       "</div>"
      ],
      "text/plain": [
       "             Open   High    Low  Close  Volume\n",
       "Date                                          \n",
       "2007-12-31  7.349  7.540  7.283  7.483   27299\n",
       "2008-01-02  7.572  7.876  7.564  7.850   68553\n",
       "2008-01-03  7.873  7.980  7.610  7.674   72742\n",
       "2008-01-04  7.652  7.859  7.500  7.841   61496\n",
       "2008-01-07  7.803  7.940  7.701  7.879   56675"
      ]
     },
     "execution_count": 4,
     "metadata": {},
     "output_type": "execute_result"
    }
   ],
   "source": [
    "stocks = input(\"Enter the code of the stock:- \")\n",
    "data = yf.download(stocks, \"2008-01-01\", \"2021-01-18\", auto_adjust=True)\n",
    "data.head()"
   ]
  },
  {
   "cell_type": "code",
   "execution_count": 5,
   "id": "7eb2d1f1",
   "metadata": {},
   "outputs": [
    {
     "data": {
      "text/plain": [
       "(3256, 5)"
      ]
     },
     "execution_count": 5,
     "metadata": {},
     "output_type": "execute_result"
    }
   ],
   "source": [
    "data.shape"
   ]
  },
  {
   "cell_type": "code",
   "execution_count": 6,
   "id": "7bc4bdf9",
   "metadata": {},
   "outputs": [
    {
     "name": "stdout",
     "output_type": "stream",
     "text": [
      "<class 'pandas.core.frame.DataFrame'>\n",
      "DatetimeIndex: 3256 entries, 2007-12-31 to 2021-01-15\n",
      "Data columns (total 5 columns):\n",
      " #   Column  Non-Null Count  Dtype  \n",
      "---  ------  --------------  -----  \n",
      " 0   Open    3256 non-null   float64\n",
      " 1   High    3256 non-null   float64\n",
      " 2   Low     3256 non-null   float64\n",
      " 3   Close   3256 non-null   float64\n",
      " 4   Volume  3256 non-null   int64  \n",
      "dtypes: float64(4), int64(1)\n",
      "memory usage: 152.6 KB\n"
     ]
    }
   ],
   "source": [
    "data.info()"
   ]
  },
  {
   "cell_type": "code",
   "execution_count": 7,
   "id": "5574c2fb",
   "metadata": {},
   "outputs": [
    {
     "data": {
      "text/html": [
       "<div>\n",
       "<style scoped>\n",
       "    .dataframe tbody tr th:only-of-type {\n",
       "        vertical-align: middle;\n",
       "    }\n",
       "\n",
       "    .dataframe tbody tr th {\n",
       "        vertical-align: top;\n",
       "    }\n",
       "\n",
       "    .dataframe thead th {\n",
       "        text-align: right;\n",
       "    }\n",
       "</style>\n",
       "<table border=\"1\" class=\"dataframe\">\n",
       "  <thead>\n",
       "    <tr style=\"text-align: right;\">\n",
       "      <th></th>\n",
       "      <th>Open</th>\n",
       "      <th>High</th>\n",
       "      <th>Low</th>\n",
       "      <th>Close</th>\n",
       "      <th>Volume</th>\n",
       "    </tr>\n",
       "  </thead>\n",
       "  <tbody>\n",
       "    <tr>\n",
       "      <th>count</th>\n",
       "      <td>3256.000000</td>\n",
       "      <td>3256.000000</td>\n",
       "      <td>3256.000000</td>\n",
       "      <td>3256.000000</td>\n",
       "      <td>3256.000000</td>\n",
       "    </tr>\n",
       "    <tr>\n",
       "      <th>mean</th>\n",
       "      <td>3.710604</td>\n",
       "      <td>3.784235</td>\n",
       "      <td>3.632463</td>\n",
       "      <td>3.704380</td>\n",
       "      <td>131832.353808</td>\n",
       "    </tr>\n",
       "    <tr>\n",
       "      <th>std</th>\n",
       "      <td>1.827700</td>\n",
       "      <td>1.863149</td>\n",
       "      <td>1.787076</td>\n",
       "      <td>1.822525</td>\n",
       "      <td>54227.259508</td>\n",
       "    </tr>\n",
       "    <tr>\n",
       "      <th>min</th>\n",
       "      <td>1.441000</td>\n",
       "      <td>1.567000</td>\n",
       "      <td>1.432000</td>\n",
       "      <td>1.482000</td>\n",
       "      <td>0.000000</td>\n",
       "    </tr>\n",
       "    <tr>\n",
       "      <th>25%</th>\n",
       "      <td>2.691000</td>\n",
       "      <td>2.735000</td>\n",
       "      <td>2.643000</td>\n",
       "      <td>2.692000</td>\n",
       "      <td>92091.250000</td>\n",
       "    </tr>\n",
       "    <tr>\n",
       "      <th>50%</th>\n",
       "      <td>3.251500</td>\n",
       "      <td>3.300500</td>\n",
       "      <td>3.178000</td>\n",
       "      <td>3.238000</td>\n",
       "      <td>127025.000000</td>\n",
       "    </tr>\n",
       "    <tr>\n",
       "      <th>75%</th>\n",
       "      <td>4.155250</td>\n",
       "      <td>4.240250</td>\n",
       "      <td>4.064250</td>\n",
       "      <td>4.151000</td>\n",
       "      <td>161796.000000</td>\n",
       "    </tr>\n",
       "    <tr>\n",
       "      <th>max</th>\n",
       "      <td>13.580000</td>\n",
       "      <td>13.694000</td>\n",
       "      <td>13.304000</td>\n",
       "      <td>13.505000</td>\n",
       "      <td>459196.000000</td>\n",
       "    </tr>\n",
       "  </tbody>\n",
       "</table>\n",
       "</div>"
      ],
      "text/plain": [
       "              Open         High          Low        Close         Volume\n",
       "count  3256.000000  3256.000000  3256.000000  3256.000000    3256.000000\n",
       "mean      3.710604     3.784235     3.632463     3.704380  131832.353808\n",
       "std       1.827700     1.863149     1.787076     1.822525   54227.259508\n",
       "min       1.441000     1.567000     1.432000     1.482000       0.000000\n",
       "25%       2.691000     2.735000     2.643000     2.692000   92091.250000\n",
       "50%       3.251500     3.300500     3.178000     3.238000  127025.000000\n",
       "75%       4.155250     4.240250     4.064250     4.151000  161796.000000\n",
       "max      13.580000    13.694000    13.304000    13.505000  459196.000000"
      ]
     },
     "execution_count": 7,
     "metadata": {},
     "output_type": "execute_result"
    }
   ],
   "source": [
    "data.describe()"
   ]
  },
  {
   "cell_type": "code",
   "execution_count": 8,
   "id": "9323ebaf",
   "metadata": {},
   "outputs": [
    {
     "data": {
      "text/plain": [
       "Text(0.5, 1.0, 'NG=F Price Series')"
      ]
     },
     "execution_count": 8,
     "metadata": {},
     "output_type": "execute_result"
    },
    {
     "data": {
      "image/png": "[encoded data removed]",
      "text/plain": [
       "<Figure size 720x504 with 1 Axes>"
      ]
     },
     "metadata": {
      "needs_background": "light"
     },
     "output_type": "display_data"
    }
   ],
   "source": [
    "data.Close.plot(figsize=(10, 7), color='r')\n",
    "plt.ylabel(\"{} Prices\".format(stocks))\n",
    "plt.title(\"{} Price Series\".format(stocks))"
   ]
  },
  {
   "cell_type": "code",
   "execution_count": 9,
   "id": "471244cb",
   "metadata": {},
   "outputs": [
    {
     "name": "stderr",
     "output_type": "stream",
     "text": [
      "c:\\users\\naman\\appdata\\local\\programs\\python\\python39\\lib\\site-packages\\seaborn\\distributions.py:2557: FutureWarning: `distplot` is a deprecated function and will be removed in a future version. Please adapt your code to use either `displot` (a figure-level function with similar flexibility) or `histplot` (an axes-level function for histograms).\n",
      "  warnings.warn(msg, FutureWarning)\n"
     ]
    },
    {
     "data": {
      "text/plain": [
       "<AxesSubplot:xlabel='Close', ylabel='Density'>"
      ]
     },
     "execution_count": 9,
     "metadata": {},
     "output_type": "execute_result"
    },
    {
     "data": {
      "image/png": "[encoded data removed]",
      "text/plain": [
       "<Figure size 432x288 with 1 Axes>"
      ]
     },
     "metadata": {
      "needs_background": "light"
     },
     "output_type": "display_data"
    }
   ],
   "source": [
    "sns.distplot(data[\"Close\"])"
   ]
  },
  {
   "cell_type": "code",
   "execution_count": 11,
   "id": "7ab81958",
   "metadata": {},
   "outputs": [
    {
     "name": "stderr",
     "output_type": "stream",
     "text": [
      "c:\\users\\naman\\appdata\\local\\programs\\python\\python39\\lib\\site-packages\\seaborn\\distributions.py:2557: FutureWarning: `distplot` is a deprecated function and will be removed in a future version. Please adapt your code to use either `displot` (a figure-level function with similar flexibility) or `histplot` (an axes-level function for histograms).\n",
      "  warnings.warn(msg, FutureWarning)\n"
     ]
    },
    {
     "data": {
      "text/plain": [
       "<AxesSubplot:xlabel='Open', ylabel='Density'>"
      ]
     },
     "execution_count": 11,
     "metadata": {},
     "output_type": "execute_result"
    },
    {
     "data": {
      "image/png": "[encoded data removed]",
      "text/plain": [
       "<Figure size 432x288 with 1 Axes>"
      ]
     },
     "metadata": {
      "needs_background": "light"
     },
     "output_type": "display_data"
    }
   ],
   "source": [
    "sns.distplot(data[\"Open\"])"
   ]
  },
  {
   "cell_type": "code",
   "execution_count": 12,
   "id": "423fb75e",
   "metadata": {},
   "outputs": [
    {
     "name": "stderr",
     "output_type": "stream",
     "text": [
      "c:\\users\\naman\\appdata\\local\\programs\\python\\python39\\lib\\site-packages\\seaborn\\distributions.py:2557: FutureWarning: `distplot` is a deprecated function and will be removed in a future version. Please adapt your code to use either `displot` (a figure-level function with similar flexibility) or `histplot` (an axes-level function for histograms).\n",
      "  warnings.warn(msg, FutureWarning)\n"
     ]
    },
    {
     "data": {
      "text/plain": [
       "<AxesSubplot:xlabel='High', ylabel='Density'>"
      ]
     },
     "execution_count": 12,
     "metadata": {},
     "output_type": "execute_result"
    },
    {
     "data": {
      "image/png": "[encoded data removed]",
      "text/plain": [
       "<Figure size 432x288 with 1 Axes>"
      ]
     },
     "metadata": {
      "needs_background": "light"
     },
     "output_type": "display_data"
    }
   ],
   "source": [
    "sns.distplot(data[\"High\"])"
   ]
  },
  {
   "cell_type": "code",
   "execution_count": 16,
   "id": "19f8e028",
   "metadata": {},
   "outputs": [
    {
     "name": "stdout",
     "output_type": "stream",
     "text": [
      "(2604, 4)\n",
      "(652, 4)\n",
      "(2604,)\n",
      "(652,)\n"
     ]
    }
   ],
   "source": [
    "# Conlusions  \n",
    "\n",
    "# - Shape the of the data  \n",
    "# - how our data is distributed \n",
    "# - It's very very non linear  \n",
    "\n",
    "X = data.drop(\"Close\", axis=1)\n",
    "y = data[\"Close\"]\n",
    "\n",
    "from sklearn.model_selection import train_test_split \n",
    "\n",
    "X_train, X_test, y_train, y_test = train_test_split(X, y, test_size=0.2, random_state=0)\n",
    "print(X_train.shape) \n",
    "print(X_test.shape) \n",
    "print(y_train.shape) \n",
    "print(y_test.shape)"
   ]
  },
  {
   "cell_type": "code",
   "execution_count": 17,
   "id": "d9a5b613",
   "metadata": {},
   "outputs": [],
   "source": [
    "from sklearn.linear_model import LinearRegression\n",
    "\n",
    "lr = LinearRegression()\n",
    "lr.fit(X_train, y_train)\n",
    "pred1 = lr.predict(X_test)"
   ]
  },
  {
   "cell_type": "code",
   "execution_count": 18,
   "id": "eb6c8a6a",
   "metadata": {
    "scrolled": true
   },
   "outputs": [
    {
     "data": {
      "text/plain": [
       "array([ 2.90379654,  4.10693443,  2.82653372,  3.73693219,  3.93266347,\n",
       "        3.79088622,  3.59035438,  1.72728096,  2.78063276,  4.53061106,\n",
       "        2.1847237 ,  2.9458232 ,  4.43228442,  4.24585778,  3.31659025,\n",
       "        4.83184829,  8.99854129,  3.73077567,  2.04211463,  2.81249668,\n",
       "        3.09866515,  3.48109707,  2.77060226,  4.13375587,  2.93211063,\n",
       "        3.91112244,  3.38011511,  4.62549892,  3.93561239,  3.61603312,\n",
       "        2.8223151 ,  1.81620984,  2.7178312 , 11.49864709,  4.06371313,\n",
       "        4.51740633,  2.68761357,  1.89132303,  2.96292218,  2.61028945,\n",
       "        4.32567741,  2.97648968,  2.87597093,  3.12191485,  2.58927125,\n",
       "        2.49327677,  2.5186038 ,  1.84619789,  4.653026  ,  2.61943693,\n",
       "        2.91015977,  3.68345312,  2.32785375,  3.39158006,  2.95140413,\n",
       "        3.69442777,  4.34712989,  2.98392268,  2.89075303, 12.78242168,\n",
       "        5.72191527,  2.56798624,  4.93468344,  2.27837959, 13.21849088,\n",
       "        4.18992567,  4.05428286,  7.74402844,  4.30800408,  2.36964441,\n",
       "        3.32672527,  2.97256584,  2.27319635,  2.38051314,  2.75170894,\n",
       "        3.783065  ,  4.23652274,  2.98952269,  4.39234337,  3.38684952,\n",
       "        2.09004582,  2.51371808,  3.07868835,  2.82277409,  4.40231507,\n",
       "        2.67500457,  4.29298162,  2.78276196,  4.40868389,  3.6412101 ,\n",
       "        2.63230232,  4.19365412,  3.61491957,  3.76590942,  3.25891071,\n",
       "        3.29639894,  2.95941395,  4.07463791,  1.8741084 ,  3.43323564,\n",
       "        3.15294204,  1.71482339,  4.04472211,  2.34231753,  2.93114667,\n",
       "        3.1009599 ,  4.00933546,  4.75755617,  3.11752996,  3.10880054,\n",
       "        3.80931482,  1.61791798,  4.2613207 ,  1.90986968,  6.71991798,\n",
       "        1.67078007,  4.33748623,  3.21945464,  8.15075388,  1.74555279,\n",
       "        2.53935259,  3.92391031,  2.78891565,  3.7571429 ,  3.93077976,\n",
       "        4.52160484,  2.76016944,  4.8710053 ,  2.74666668,  6.5756711 ,\n",
       "        2.98152924,  3.46096945,  2.66246511,  2.7351497 ,  2.12044033,\n",
       "        2.54525769,  2.70653169,  2.58515909,  3.52461298,  3.86890657,\n",
       "        2.96183882,  2.4383752 ,  4.75635241,  4.10967218,  4.52371216,\n",
       "        6.75096662,  2.32335294,  4.27491141,  1.61688293,  4.76309591,\n",
       "        4.66459553,  3.76371368,  2.48188785,  4.15171954,  3.31414007,\n",
       "        4.44265363,  2.63888398,  2.16956246,  1.99214703,  1.92972726,\n",
       "        2.82789522,  5.64398105,  3.69324036,  2.75719312,  8.47055212,\n",
       "        4.66345681,  3.13472453,  3.73581933,  2.29515972,  1.62307887,\n",
       "        3.39489318,  6.89136934,  2.40957207,  8.82503776,  5.6641529 ,\n",
       "        4.8817374 ,  3.0545967 ,  2.89793794,  2.66910593,  4.96641913,\n",
       "        4.16368844,  2.8288047 ,  4.03267413,  1.99006897,  2.44299272,\n",
       "        3.07438055,  3.77613897,  2.53306727,  2.69943061,  3.15868166,\n",
       "        4.18219359,  3.57149777,  4.18721632,  3.43073831,  2.80672215,\n",
       "        3.9284777 ,  3.27983211,  3.83719693,  4.20430566,  2.53237554,\n",
       "        4.80798696,  3.14946301,  2.77144762,  3.65857861,  3.28086776,\n",
       "        5.04888108,  4.60134402,  2.79587911,  2.71881289,  3.29284917,\n",
       "        5.14665546,  4.83630621,  1.98385255,  2.68593921,  3.62840135,\n",
       "        3.63892162,  1.82420078,  3.81376022,  4.01729093,  2.47349667,\n",
       "        3.19694579,  4.19567849,  3.24077273,  5.46535975,  2.80133311,\n",
       "        4.86286298,  3.83019406,  2.39047592,  2.69278769,  3.80697136,\n",
       "        5.3883563 ,  2.72323747,  1.76277475,  3.84678729,  2.81515537,\n",
       "        2.29691289,  4.38545749,  2.15295658,  3.71817612,  2.65125827,\n",
       "        5.75358945,  2.15933338,  2.84930155,  3.65967276,  2.8987469 ,\n",
       "        3.80575525,  3.95356916,  3.66904704,  2.44304196,  2.16557679,\n",
       "        8.08490569,  6.74975746,  4.52894911, 13.33788099,  3.94818835,\n",
       "        5.66649803,  3.85048395,  3.03040914,  2.83967699,  3.49201306,\n",
       "        2.02941968,  2.83719577,  3.92644798, 11.74630831,  2.70393586,\n",
       "        3.98990606,  3.75309993,  2.80719048,  3.90522363,  4.39753872,\n",
       "        2.73662318,  1.83499517,  9.98140881,  3.57454124,  2.73251723,\n",
       "        2.4682574 ,  3.85729443,  4.15499799,  2.847934  ,  2.44810558,\n",
       "        2.23304696,  3.47687364,  3.90175032,  3.81366626,  3.54548642,\n",
       "        1.93051371,  7.16011619,  4.26812446,  2.25485788,  2.93641264,\n",
       "        3.82014439,  3.30268772,  6.13024921,  3.15336107,  8.95938387,\n",
       "        3.96055058,  2.70796109,  4.2213285 ,  3.97006403,  2.58426419,\n",
       "        2.07984354,  2.0060473 ,  2.93464693,  5.00565115,  3.09391108,\n",
       "        2.42426536,  3.51259606,  3.85084228,  3.45255863,  2.92421336,\n",
       "        2.61271595,  4.4252216 ,  2.67992326,  2.2814524 ,  2.65244847,\n",
       "        7.81694058,  3.04366663,  4.09099304,  3.91006099,  5.88281054,\n",
       "        2.86729934,  4.56157361,  2.28292469,  4.40464734,  3.28577998,\n",
       "        2.95869247,  4.24973473,  3.6393083 ,  2.35654678,  2.13240698,\n",
       "        2.30317325,  2.86563722,  2.55703096,  2.62003373,  2.29920213,\n",
       "        5.03000588,  5.10811831,  2.29328518,  4.09661403,  3.27814829,\n",
       "        3.86606031,  3.81429964,  2.99854645,  3.14626879,  4.40677163,\n",
       "        2.05021751,  1.75975477,  3.40387275,  4.02191011,  3.85921762,\n",
       "        7.92855378,  4.28641793,  6.85157926,  2.14210915,  4.22707565,\n",
       "        2.81091776,  9.94220822,  3.0758642 ,  4.17758702,  3.56573269,\n",
       "        2.88849744,  4.52971973,  3.56953308,  2.91457284,  4.06522556,\n",
       "        2.26615015,  2.71814912,  2.28113301,  3.73071786,  4.14322747,\n",
       "        3.7582221 ,  4.65257631,  2.33394253,  2.59684436,  2.60084498,\n",
       "        4.01619211,  2.7317876 ,  2.11783939,  2.92500107,  2.27524315,\n",
       "        2.57718278,  3.23964442,  2.70317627,  3.56184077,  2.74437438,\n",
       "        3.82061876,  2.90128203,  2.50967025,  4.55685236,  2.62029539,\n",
       "        3.60430244,  2.54553293,  2.71124747,  2.20167645,  3.73756595,\n",
       "        4.57060663,  7.90223328,  4.16252795,  2.65991012,  2.8688942 ,\n",
       "        3.34320108,  3.96183375,  2.78854789,  1.76989795,  2.63191775,\n",
       "       10.4980125 ,  3.45112076,  2.90635605,  6.02293768,  6.89671728,\n",
       "        2.46526179,  3.00893554,  4.60599114,  2.47191092,  7.83202329,\n",
       "        3.88801194,  2.93432661,  7.06532741,  3.95050176,  4.29960871,\n",
       "        3.99662955,  3.64964047,  3.75803779,  2.30678375,  2.33726364,\n",
       "        7.61506903,  3.15385892,  1.73360474,  2.39265045,  3.49995743,\n",
       "        3.04591194,  2.87564779,  2.41662425,  3.26176519,  2.08595687,\n",
       "        2.08436065,  5.1960881 ,  4.0367234 ,  3.60266138,  1.84618192,\n",
       "        3.56758091,  2.66129335,  4.75149376,  4.00562652,  3.05286631,\n",
       "        1.71723009,  4.19079321,  4.1701448 ,  3.58278545,  1.96625196,\n",
       "        3.59140395,  1.81514241,  2.60204872,  3.69144368,  3.15598987,\n",
       "        2.83081303,  4.50386711,  3.19240629,  3.92942644,  3.06801952,\n",
       "        7.80153594,  4.2690344 ,  4.62369723,  4.74423447,  3.22308994,\n",
       "        3.14872859,  3.6848702 ,  3.35244483,  2.26935714,  2.22316417,\n",
       "        2.65351418,  5.96236223,  3.13002648,  5.28395547,  2.93531606,\n",
       "        2.79222317,  3.28266516,  2.77488216,  4.02155756,  2.95406141,\n",
       "        2.8068383 ,  2.63185879,  6.12958705,  9.92527234,  3.41875371,\n",
       "        2.26967458,  4.16086072,  2.94978471,  7.6460873 ,  3.93720695,\n",
       "        4.34717042,  1.81030122,  7.80798571,  2.30984936,  1.73813686,\n",
       "        3.77753471,  4.36517964,  2.00172096,  2.3316011 ,  3.65953725,\n",
       "        4.61737251,  2.72009847,  3.53974965,  2.96737466,  2.81843771,\n",
       "        4.70821135,  2.57517909,  3.79132488,  3.67871348,  4.72645025,\n",
       "        3.50970494,  3.30388372,  4.02069089,  2.89879227,  2.82449406,\n",
       "        4.7247795 ,  2.55354186,  1.69663988,  3.77573935,  2.55703288,\n",
       "        4.34882353,  3.30294091,  2.66473791,  1.84387567,  2.59472541,\n",
       "        3.33494117,  2.79382592,  3.69659057,  4.66955599,  2.28866488,\n",
       "        3.84619615,  3.47331115,  4.02723827,  3.27678457,  1.81538849,\n",
       "        2.2509837 ,  3.96462555,  2.98788927,  4.77905531,  2.11119929,\n",
       "        2.48362276,  1.7433765 ,  1.90095971,  2.27365861,  3.84391757,\n",
       "        8.32127391,  3.33095002,  2.14142057,  4.32664218,  3.78182975,\n",
       "       10.16599601,  3.9688202 ,  8.43871201,  4.85985931,  2.29119415,\n",
       "        3.16115572,  4.29467875,  1.62021039,  2.71799503,  1.76372819,\n",
       "        3.91348198,  4.85339374,  4.52921834,  2.49270769,  2.81463183,\n",
       "        1.79731096,  2.18113225,  2.94157688,  4.21463258,  2.96468137,\n",
       "        3.95379201,  2.25190251,  1.78622212,  2.10960428,  2.95983265,\n",
       "        2.71700424,  3.52733884,  4.43109375,  2.91576489,  6.43172171,\n",
       "        1.85955783,  3.84789843,  2.89977284,  2.93288753,  3.05777078,\n",
       "        5.54092202,  4.66920683,  2.94390718,  2.14573058,  2.25827886,\n",
       "        1.83201399,  2.61547453, 10.69992825,  2.40849202,  2.57239683,\n",
       "        4.62670617,  2.65330209,  4.48808233,  2.33214768,  5.34070316,\n",
       "        5.30437902,  2.19400879,  5.58415194,  1.76488033,  1.82884706,\n",
       "        3.65540206,  3.6207361 ,  2.756549  ,  2.14566051,  2.55045678,\n",
       "        3.92120622,  4.56236884,  2.93121865,  3.5176616 ,  1.70974494,\n",
       "        4.79175709,  9.39008644,  3.85598488,  2.18719213,  3.47136583,\n",
       "        3.42261749,  2.26352346,  3.72512255,  2.76522452,  1.73527309,\n",
       "        3.95737585,  8.65197089,  4.10534026,  2.10881351,  3.52763428,\n",
       "        2.75455232,  2.69458091,  5.8600384 ,  2.80997872,  3.6817568 ,\n",
       "        2.94826117,  1.78099437,  3.17524435,  2.42959991,  4.32394522,\n",
       "        3.03122655, 11.63301767,  2.41231835,  2.86233985,  9.40211789,\n",
       "        4.09199714,  3.19949541,  4.86174367,  2.73560712,  4.07861793,\n",
       "        3.04479545,  1.66138654])"
      ]
     },
     "execution_count": 18,
     "metadata": {},
     "output_type": "execute_result"
    }
   ],
   "source": [
    "pred1"
   ]
  },
  {
   "cell_type": "code",
   "execution_count": 19,
   "id": "c1f9c6ea",
   "metadata": {},
   "outputs": [
    {
     "name": "stdout",
     "output_type": "stream",
     "text": [
      "MSE:-  0.0014286570866429691\n",
      "RMSE:-  0.03779758043371254\n",
      "R2_score:-  0.9995022528239916\n"
     ]
    }
   ],
   "source": [
    "# MSE -- > Mean Squared  \n",
    "# RMSE ---> sart(MSE) \n",
    "# r2_square ---> 1.0 # good model \n",
    "\n",
    "from sklearn.metrics import mean_squared_error, r2_score \n",
    "\n",
    "def calculate_metrics(y_test, y_pred):  \n",
    "    ''' \n",
    "    y_test:- ground truth \n",
    "    y_pred:- model predict  \n",
    "    '''\n",
    "    mse = mean_squared_error(y_test, y_pred)\n",
    "    rmse = np.sqrt(mse) \n",
    "    r2_scors = r2_score(y_test, y_pred) \n",
    "    \n",
    "    print(\"MSE:- \", mse) \n",
    "    print(\"RMSE:- \", rmse) \n",
    "    print(\"R2_score:- \", r2_scors) \n",
    "    \n",
    "calculate_metrics(y_test, pred1)"
   ]
  },
  {
   "cell_type": "code",
   "execution_count": 21,
   "id": "a920abd9",
   "metadata": {},
   "outputs": [],
   "source": [
    "from sklearn.linear_model import Lasso, Ridge \n",
    "\n",
    "la = Lasso().fit(X_train, y_train)\n",
    "ri = Ridge().fit(X_train, y_train) \n",
    "\n",
    "la_p = la.predict(X_test) \n",
    "ri_p = ri.predict(X_test)"
   ]
  },
  {
   "cell_type": "code",
   "execution_count": 22,
   "id": "930649ed",
   "metadata": {},
   "outputs": [
    {
     "name": "stdout",
     "output_type": "stream",
     "text": [
      "MSE:-  0.26629003535723217\n",
      "RMSE:-  0.5160329789434317\n",
      "R2_score:-  0.9072239837414766\n"
     ]
    }
   ],
   "source": [
    "calculate_metrics(y_test, la_p)"
   ]
  },
  {
   "cell_type": "code",
   "execution_count": 24,
   "id": "0e6a3b89",
   "metadata": {},
   "outputs": [
    {
     "name": "stdout",
     "output_type": "stream",
     "text": [
      "MSE:-  0.0015451940592214224\n",
      "RMSE:-  0.039308956475864666\n",
      "R2_score:-  0.9994616510941966\n"
     ]
    }
   ],
   "source": [
    "calculate_metrics(y_test, ri_p)"
   ]
  },
  {
   "cell_type": "code",
   "execution_count": 25,
   "id": "db509fdc",
   "metadata": {},
   "outputs": [
    {
     "name": "stdout",
     "output_type": "stream",
     "text": [
      "Fitting 5 folds for each of 25 candidates, totalling 125 fits\n",
      "[CV 1/5] END .......C=0.1, gamma=1, kernel=rbf;, score=-0.092 total time=   1.1s\n",
      "[CV 2/5] END .......C=0.1, gamma=1, kernel=rbf;, score=-0.057 total time=   1.0s\n",
      "[CV 3/5] END .......C=0.1, gamma=1, kernel=rbf;, score=-0.061 total time=   1.0s\n",
      "[CV 4/5] END .......C=0.1, gamma=1, kernel=rbf;, score=-0.077 total time=   1.2s\n",
      "[CV 5/5] END .......C=0.1, gamma=1, kernel=rbf;, score=-0.045 total time=   1.2s\n",
      "[CV 1/5] END .....C=0.1, gamma=0.1, kernel=rbf;, score=-0.092 total time=   1.2s\n",
      "[CV 2/5] END .....C=0.1, gamma=0.1, kernel=rbf;, score=-0.057 total time=   1.1s\n",
      "[CV 3/5] END .....C=0.1, gamma=0.1, kernel=rbf;, score=-0.061 total time=   1.1s\n",
      "[CV 4/5] END .....C=0.1, gamma=0.1, kernel=rbf;, score=-0.078 total time=   1.2s\n",
      "[CV 5/5] END .....C=0.1, gamma=0.1, kernel=rbf;, score=-0.044 total time=   1.3s\n",
      "[CV 1/5] END ....C=0.1, gamma=0.01, kernel=rbf;, score=-0.092 total time=   1.2s\n",
      "[CV 2/5] END ....C=0.1, gamma=0.01, kernel=rbf;, score=-0.057 total time=   1.1s\n",
      "[CV 3/5] END ....C=0.1, gamma=0.01, kernel=rbf;, score=-0.059 total time=   1.1s\n",
      "[CV 4/5] END ....C=0.1, gamma=0.01, kernel=rbf;, score=-0.078 total time=   1.1s\n",
      "[CV 5/5] END ....C=0.1, gamma=0.01, kernel=rbf;, score=-0.041 total time=   1.2s\n",
      "[CV 1/5] END ...C=0.1, gamma=0.001, kernel=rbf;, score=-0.089 total time=   1.1s\n",
      "[CV 2/5] END ...C=0.1, gamma=0.001, kernel=rbf;, score=-0.050 total time=   1.0s\n",
      "[CV 3/5] END ...C=0.1, gamma=0.001, kernel=rbf;, score=-0.048 total time=   1.3s\n",
      "[CV 4/5] END ...C=0.1, gamma=0.001, kernel=rbf;, score=-0.073 total time=   1.2s\n",
      "[CV 5/5] END ...C=0.1, gamma=0.001, kernel=rbf;, score=-0.037 total time=   1.7s\n",
      "[CV 1/5] END ..C=0.1, gamma=0.0001, kernel=rbf;, score=-0.071 total time=   1.0s\n",
      "[CV 2/5] END ..C=0.1, gamma=0.0001, kernel=rbf;, score=-0.036 total time=   1.1s\n",
      "[CV 3/5] END ..C=0.1, gamma=0.0001, kernel=rbf;, score=-0.026 total time=   1.3s\n",
      "[CV 4/5] END ..C=0.1, gamma=0.0001, kernel=rbf;, score=-0.058 total time=   1.1s\n",
      "[CV 5/5] END ..C=0.1, gamma=0.0001, kernel=rbf;, score=-0.023 total time=   1.1s\n",
      "[CV 1/5] END .........C=1, gamma=1, kernel=rbf;, score=-0.049 total time=   1.1s\n",
      "[CV 2/5] END .........C=1, gamma=1, kernel=rbf;, score=-0.029 total time=   1.1s\n",
      "[CV 3/5] END .........C=1, gamma=1, kernel=rbf;, score=-0.032 total time=   1.2s\n",
      "[CV 4/5] END .........C=1, gamma=1, kernel=rbf;, score=-0.045 total time=   1.1s\n",
      "[CV 5/5] END .........C=1, gamma=1, kernel=rbf;, score=-0.021 total time=   1.2s\n",
      "[CV 1/5] END .......C=1, gamma=0.1, kernel=rbf;, score=-0.049 total time=   1.1s\n",
      "[CV 2/5] END .......C=1, gamma=0.1, kernel=rbf;, score=-0.028 total time=   1.1s\n",
      "[CV 3/5] END .......C=1, gamma=0.1, kernel=rbf;, score=-0.031 total time=   1.0s\n",
      "[CV 4/5] END .......C=1, gamma=0.1, kernel=rbf;, score=-0.045 total time=   1.1s\n",
      "[CV 5/5] END .......C=1, gamma=0.1, kernel=rbf;, score=-0.017 total time=   1.1s\n",
      "[CV 1/5] END ......C=1, gamma=0.01, kernel=rbf;, score=-0.060 total time=   1.0s\n",
      "[CV 2/5] END ......C=1, gamma=0.01, kernel=rbf;, score=-0.026 total time=   1.1s\n",
      "[CV 3/5] END ......C=1, gamma=0.01, kernel=rbf;, score=-0.023 total time=   1.1s\n",
      "[CV 4/5] END ......C=1, gamma=0.01, kernel=rbf;, score=-0.050 total time=   1.3s\n",
      "[CV 5/5] END ......C=1, gamma=0.01, kernel=rbf;, score=-0.016 total time=   1.1s\n",
      "[CV 1/5] END .....C=1, gamma=0.001, kernel=rbf;, score=-0.074 total time=   1.0s\n",
      "[CV 2/5] END .....C=1, gamma=0.001, kernel=rbf;, score=-0.024 total time=   1.0s\n",
      "[CV 3/5] END ......C=1, gamma=0.001, kernel=rbf;, score=0.006 total time=   1.0s\n",
      "[CV 4/5] END .....C=1, gamma=0.001, kernel=rbf;, score=-0.056 total time=   1.2s\n",
      "[CV 5/5] END .....C=1, gamma=0.001, kernel=rbf;, score=-0.018 total time=   1.1s\n",
      "[CV 1/5] END ....C=1, gamma=0.0001, kernel=rbf;, score=-0.057 total time=   1.3s\n",
      "[CV 2/5] END ....C=1, gamma=0.0001, kernel=rbf;, score=-0.010 total time=   1.4s\n",
      "[CV 3/5] END .....C=1, gamma=0.0001, kernel=rbf;, score=0.020 total time=   1.2s\n",
      "[CV 4/5] END ....C=1, gamma=0.0001, kernel=rbf;, score=-0.039 total time=   1.1s\n",
      "[CV 5/5] END ....C=1, gamma=0.0001, kernel=rbf;, score=-0.003 total time=   1.4s\n",
      "[CV 1/5] END .........C=10, gamma=1, kernel=rbf;, score=0.001 total time=   1.2s\n",
      "[CV 2/5] END .........C=10, gamma=1, kernel=rbf;, score=0.003 total time=   1.2s\n",
      "[CV 3/5] END .........C=10, gamma=1, kernel=rbf;, score=0.000 total time=   1.1s\n",
      "[CV 4/5] END .........C=10, gamma=1, kernel=rbf;, score=0.000 total time=   1.3s\n",
      "[CV 5/5] END ........C=10, gamma=1, kernel=rbf;, score=-0.006 total time=   1.3s\n",
      "[CV 1/5] END .......C=10, gamma=0.1, kernel=rbf;, score=0.002 total time=   2.1s\n",
      "[CV 2/5] END .......C=10, gamma=0.1, kernel=rbf;, score=0.006 total time=   1.4s\n",
      "[CV 3/5] END .......C=10, gamma=0.1, kernel=rbf;, score=0.004 total time=   1.2s\n",
      "[CV 4/5] END .......C=10, gamma=0.1, kernel=rbf;, score=0.002 total time=   1.2s\n",
      "[CV 5/5] END .......C=10, gamma=0.1, kernel=rbf;, score=0.002 total time=   1.6s\n",
      "[CV 1/5] END .....C=10, gamma=0.01, kernel=rbf;, score=-0.019 total time=   1.5s\n",
      "[CV 2/5] END ......C=10, gamma=0.01, kernel=rbf;, score=0.023 total time=   1.3s\n",
      "[CV 3/5] END ......C=10, gamma=0.01, kernel=rbf;, score=0.024 total time=   1.4s\n",
      "[CV 4/5] END ......C=10, gamma=0.01, kernel=rbf;, score=0.009 total time=   1.8s\n",
      "[CV 5/5] END ......C=10, gamma=0.01, kernel=rbf;, score=0.027 total time=   1.3s\n",
      "[CV 1/5] END ....C=10, gamma=0.001, kernel=rbf;, score=-0.237 total time=   1.6s\n",
      "[CV 2/5] END ....C=10, gamma=0.001, kernel=rbf;, score=-0.086 total time=   1.5s\n",
      "[CV 3/5] END ....C=10, gamma=0.001, kernel=rbf;, score=-0.081 total time=   2.0s\n",
      "[CV 4/5] END ....C=10, gamma=0.001, kernel=rbf;, score=-0.103 total time=   1.8s\n",
      "[CV 5/5] END ....C=10, gamma=0.001, kernel=rbf;, score=-0.138 total time=   1.3s\n",
      "[CV 1/5] END ...C=10, gamma=0.0001, kernel=rbf;, score=-0.448 total time=   2.5s\n",
      "[CV 2/5] END ...C=10, gamma=0.0001, kernel=rbf;, score=-0.321 total time=   2.2s\n",
      "[CV 3/5] END ...C=10, gamma=0.0001, kernel=rbf;, score=-0.402 total time=   2.3s\n",
      "[CV 4/5] END ...C=10, gamma=0.0001, kernel=rbf;, score=-0.218 total time=   1.8s\n",
      "[CV 5/5] END ...C=10, gamma=0.0001, kernel=rbf;, score=-0.348 total time=   1.7s\n",
      "[CV 1/5] END ........C=100, gamma=1, kernel=rbf;, score=0.001 total time=   2.0s\n",
      "[CV 2/5] END ........C=100, gamma=1, kernel=rbf;, score=0.003 total time=   1.6s\n",
      "[CV 3/5] END ........C=100, gamma=1, kernel=rbf;, score=0.000 total time=   2.0s\n",
      "[CV 4/5] END ........C=100, gamma=1, kernel=rbf;, score=0.000 total time=   1.8s\n",
      "[CV 5/5] END .......C=100, gamma=1, kernel=rbf;, score=-0.006 total time=   1.6s\n",
      "[CV 1/5] END ......C=100, gamma=0.1, kernel=rbf;, score=0.002 total time=   1.5s\n",
      "[CV 2/5] END ......C=100, gamma=0.1, kernel=rbf;, score=0.006 total time=   1.6s\n",
      "[CV 3/5] END ......C=100, gamma=0.1, kernel=rbf;, score=0.004 total time=   1.5s\n",
      "[CV 4/5] END ......C=100, gamma=0.1, kernel=rbf;, score=0.002 total time=   2.0s\n",
      "[CV 5/5] END ......C=100, gamma=0.1, kernel=rbf;, score=0.002 total time=   1.6s\n",
      "[CV 1/5] END ....C=100, gamma=0.01, kernel=rbf;, score=-0.019 total time=   1.5s\n",
      "[CV 2/5] END .....C=100, gamma=0.01, kernel=rbf;, score=0.023 total time=   1.5s\n",
      "[CV 3/5] END .....C=100, gamma=0.01, kernel=rbf;, score=0.024 total time=   1.4s\n",
      "[CV 4/5] END .....C=100, gamma=0.01, kernel=rbf;, score=0.009 total time=   1.4s\n",
      "[CV 5/5] END .....C=100, gamma=0.01, kernel=rbf;, score=0.027 total time=   1.1s\n",
      "[CV 1/5] END ...C=100, gamma=0.001, kernel=rbf;, score=-0.290 total time=   1.8s\n",
      "[CV 2/5] END ...C=100, gamma=0.001, kernel=rbf;, score=-0.106 total time=   1.6s\n",
      "[CV 3/5] END ...C=100, gamma=0.001, kernel=rbf;, score=-0.119 total time=   1.5s\n",
      "[CV 4/5] END ...C=100, gamma=0.001, kernel=rbf;, score=-0.118 total time=   2.1s\n",
      "[CV 5/5] END ...C=100, gamma=0.001, kernel=rbf;, score=-0.172 total time=   1.7s\n",
      "[CV 1/5] END ..C=100, gamma=0.0001, kernel=rbf;, score=-0.883 total time=   3.5s\n",
      "[CV 2/5] END ..C=100, gamma=0.0001, kernel=rbf;, score=-0.819 total time=   2.9s\n",
      "[CV 3/5] END ..C=100, gamma=0.0001, kernel=rbf;, score=-0.962 total time=   2.9s\n",
      "[CV 4/5] END ..C=100, gamma=0.0001, kernel=rbf;, score=-0.455 total time=   3.6s\n",
      "[CV 5/5] END ..C=100, gamma=0.0001, kernel=rbf;, score=-0.852 total time=   3.3s\n",
      "[CV 1/5] END .......C=1000, gamma=1, kernel=rbf;, score=0.001 total time=   1.5s\n"
     ]
    },
    {
     "name": "stdout",
     "output_type": "stream",
     "text": [
      "[CV 2/5] END .......C=1000, gamma=1, kernel=rbf;, score=0.003 total time=   1.1s\n",
      "[CV 3/5] END .......C=1000, gamma=1, kernel=rbf;, score=0.000 total time=   1.9s\n",
      "[CV 4/5] END .......C=1000, gamma=1, kernel=rbf;, score=0.000 total time=   2.1s\n",
      "[CV 5/5] END ......C=1000, gamma=1, kernel=rbf;, score=-0.006 total time=   1.8s\n",
      "[CV 1/5] END .....C=1000, gamma=0.1, kernel=rbf;, score=0.002 total time=   1.5s\n",
      "[CV 2/5] END .....C=1000, gamma=0.1, kernel=rbf;, score=0.006 total time=   1.5s\n",
      "[CV 3/5] END .....C=1000, gamma=0.1, kernel=rbf;, score=0.004 total time=   1.2s\n",
      "[CV 4/5] END .....C=1000, gamma=0.1, kernel=rbf;, score=0.002 total time=   1.2s\n",
      "[CV 5/5] END .....C=1000, gamma=0.1, kernel=rbf;, score=0.002 total time=   1.2s\n",
      "[CV 1/5] END ...C=1000, gamma=0.01, kernel=rbf;, score=-0.019 total time=   1.8s\n",
      "[CV 2/5] END ....C=1000, gamma=0.01, kernel=rbf;, score=0.023 total time=   1.4s\n",
      "[CV 3/5] END ....C=1000, gamma=0.01, kernel=rbf;, score=0.024 total time=   1.2s\n",
      "[CV 4/5] END ....C=1000, gamma=0.01, kernel=rbf;, score=0.009 total time=   1.4s\n",
      "[CV 5/5] END ....C=1000, gamma=0.01, kernel=rbf;, score=0.027 total time=   1.5s\n",
      "[CV 1/5] END ..C=1000, gamma=0.001, kernel=rbf;, score=-0.291 total time=   3.1s\n",
      "[CV 2/5] END ..C=1000, gamma=0.001, kernel=rbf;, score=-0.107 total time=   1.8s\n",
      "[CV 3/5] END ..C=1000, gamma=0.001, kernel=rbf;, score=-0.120 total time=   1.7s\n",
      "[CV 4/5] END ..C=1000, gamma=0.001, kernel=rbf;, score=-0.119 total time=   1.8s\n",
      "[CV 5/5] END ..C=1000, gamma=0.001, kernel=rbf;, score=-0.173 total time=   1.6s\n",
      "[CV 1/5] END .C=1000, gamma=0.0001, kernel=rbf;, score=-1.018 total time=  10.8s\n",
      "[CV 2/5] END .C=1000, gamma=0.0001, kernel=rbf;, score=-1.227 total time=  14.1s\n",
      "[CV 3/5] END .C=1000, gamma=0.0001, kernel=rbf;, score=-1.332 total time=  10.9s\n",
      "[CV 4/5] END .C=1000, gamma=0.0001, kernel=rbf;, score=-0.573 total time=  10.9s\n",
      "[CV 5/5] END .C=1000, gamma=0.0001, kernel=rbf;, score=-0.985 total time=  14.3s\n"
     ]
    },
    {
     "data": {
      "text/plain": [
       "GridSearchCV(estimator=SVR(),\n",
       "             param_grid={'C': [0.1, 1, 10, 100, 1000],\n",
       "                         'gamma': [1, 0.1, 0.01, 0.001, 0.0001],\n",
       "                         'kernel': ['rbf']},\n",
       "             verbose=3)"
      ]
     },
     "execution_count": 25,
     "metadata": {},
     "output_type": "execute_result"
    }
   ],
   "source": [
    "from sklearn.svm import SVR \n",
    "from sklearn.model_selection import GridSearchCV \n",
    "\n",
    "svr = SVR()\n",
    "\n",
    "param_grid = {'C': [0.1, 1, 10, 100, 1000],  \n",
    "              'gamma': [1, 0.1, 0.01, 0.001, 0.0001], \n",
    "              'kernel': ['rbf']}   \n",
    "\n",
    "grid = GridSearchCV(SVR(), param_grid, refit=True, verbose=3)   \n",
    "grid.fit(X_train, y_train)"
   ]
  },
  {
   "cell_type": "code",
   "execution_count": 26,
   "id": "c777a9b3",
   "metadata": {},
   "outputs": [],
   "source": [
    "svr = SVR(C=10, gamma=0.01, kernel='rbf') # svm works best when there are lots of features. So here regularised linear regression works best\n",
    "svr.fit(X_train, y_train) \n",
    "svr_pred = svr.predict(X_test)"
   ]
  },
  {
   "cell_type": "code",
   "execution_count": 27,
   "id": "097b3e99",
   "metadata": {},
   "outputs": [],
   "source": [
    "import joblib  \n",
    "\n",
    "joblib.dump(ri, 'model.pkl') \n",
    "\n",
    "ridge_from_joblib = model = joblib.load(\"model.pkl\")"
   ]
  }
 ],
 "metadata": {
  "kernelspec": {
   "display_name": "Python 3 (ipykernel)",
   "language": "python",
   "name": "python3"
  },
  "language_info": {
   "codemirror_mode": {
    "name": "ipython",
    "version": 3
   },
   "file_extension": ".py",
   "mimetype": "text/x-python",
   "name": "python",
   "nbconvert_exporter": "python",
   "pygments_lexer": "ipython3",
   "version": "3.9.5"
  }
 },
 "nbformat": 4,
 "nbformat_minor": 5
}
